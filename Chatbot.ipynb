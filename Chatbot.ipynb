{
  "nbformat": 4,
  "nbformat_minor": 0,
  "metadata": {
    "colab": {
      "provenance": [],
      "authorship_tag": "ABX9TyNQ1zn+jnNEXWm4+w3DCybc",
      "include_colab_link": true
    },
    "kernelspec": {
      "name": "python3",
      "display_name": "Python 3"
    },
    "language_info": {
      "name": "python"
    }
  },
  "cells": [
    {
      "cell_type": "markdown",
      "metadata": {
        "id": "view-in-github",
        "colab_type": "text"
      },
      "source": [
        "<a href=\"https://colab.research.google.com/github/kaua-victor/ChatBot/blob/main/Chatbot.ipynb\" target=\"_parent\"><img src=\"https://colab.research.google.com/assets/colab-badge.svg\" alt=\"Open In Colab\"/></a>"
      ]
    },
    {
      "cell_type": "code",
      "execution_count": 1,
      "metadata": {
        "colab": {
          "base_uri": "https://localhost:8080/"
        },
        "id": "w123sHIFi6Hg",
        "outputId": "388140f5-63f8-4108-d87f-8f84170a5a6b"
      },
      "outputs": [
        {
          "output_type": "stream",
          "name": "stdout",
          "text": [
            "\u001b[2K     \u001b[90m━━━━━━━━━━━━━━━━━━━━━━━━━━━━━━━━━━━━━━━━\u001b[0m \u001b[32m150.7/150.7 kB\u001b[0m \u001b[31m2.5 MB/s\u001b[0m eta \u001b[36m0:00:00\u001b[0m\n",
            "\u001b[2K     \u001b[90m━━━━━━━━━━━━━━━━━━━━━━━━━━━━━━━━━━━━━━━━\u001b[0m \u001b[32m677.8/677.8 kB\u001b[0m \u001b[31m7.9 MB/s\u001b[0m eta \u001b[36m0:00:00\u001b[0m\n",
            "\u001b[?25h"
          ]
        }
      ],
      "source": [
        "!pip install -q -U google-generativeai"
      ]
    },
    {
      "cell_type": "code",
      "source": [
        "# Import the Python SDK\n",
        "import google.generativeai as genai\n",
        "# Used to securely store your API key\n",
        "#from google.colab import userdata\n",
        "\n",
        "GOOGLE_API_KEY=\"api_key\"\n",
        "genai.configure(api_key=GOOGLE_API_KEY)"
      ],
      "metadata": {
        "id": "6XKSE182mfXp"
      },
      "execution_count": 12,
      "outputs": []
    },
    {
      "cell_type": "markdown",
      "source": [
        "Listar os modelos disponíveis\n"
      ],
      "metadata": {
        "id": "xekizjj0mpXd"
      }
    },
    {
      "cell_type": "code",
      "source": [
        "for k in genai.list_models():\n",
        "  if 'generateContent' in k.supported_generation_methods:\n",
        "    print(k.name)"
      ],
      "metadata": {
        "colab": {
          "base_uri": "https://localhost:8080/",
          "height": 138
        },
        "id": "y8Rh0K3LmkKU",
        "outputId": "73f2cf57-a7b9-4b52-ec2d-7a4fb1c808bd"
      },
      "execution_count": 3,
      "outputs": [
        {
          "output_type": "stream",
          "name": "stdout",
          "text": [
            "models/gemini-1.0-pro\n",
            "models/gemini-1.0-pro-001\n",
            "models/gemini-1.0-pro-latest\n",
            "models/gemini-1.0-pro-vision-latest\n",
            "models/gemini-1.5-pro-latest\n",
            "models/gemini-pro\n",
            "models/gemini-pro-vision\n"
          ]
        }
      ]
    },
    {
      "cell_type": "code",
      "source": [
        "generation_config = {\n",
        "    \"candidate_count\": 1,\n",
        "    \"temperature\": 0.5,\n",
        "}"
      ],
      "metadata": {
        "id": "DaaS-Iq5o27j"
      },
      "execution_count": 4,
      "outputs": []
    },
    {
      "cell_type": "code",
      "source": [
        "safety_settings = {\n",
        "    \"HARASSMENT\": \"BLOCK_NONE\",\n",
        "    \"HATE\": \"BLOCK_NONE\",\n",
        "    \"SEXUAL\": \"BLOCK_NONE\",\n",
        "    \"DANGEROUS\": \"BLOCK_NONE\"\n",
        "}"
      ],
      "metadata": {
        "id": "OBzjwGRnpmdt"
      },
      "execution_count": 5,
      "outputs": []
    },
    {
      "cell_type": "markdown",
      "source": [
        "Inicializando o modelo"
      ],
      "metadata": {
        "id": "9xVLT5OOqmU6"
      }
    },
    {
      "cell_type": "code",
      "source": [
        "model = genai.GenerativeModel(model_name=\"gemini-1.0-pro\",\n",
        "                              generation_config=generation_config,\n",
        "                              safety_settings=safety_settings)"
      ],
      "metadata": {
        "id": "bDkffF6Xqsh2"
      },
      "execution_count": 6,
      "outputs": []
    },
    {
      "cell_type": "code",
      "source": [
        "response = model.generate_content(\"Vamos aprender conteúdos sobre IA. Me dê sugestões.\")\n",
        "print(response.text)"
      ],
      "metadata": {
        "colab": {
          "base_uri": "https://localhost:8080/",
          "height": 731
        },
        "id": "2OFgoEyRrsVI",
        "outputId": "c45bb1bd-a79e-4bc6-e5df-65a97738840c"
      },
      "execution_count": 7,
      "outputs": [
        {
          "output_type": "stream",
          "name": "stdout",
          "text": [
            "**Conceitos Fundamentais**\n",
            "\n",
            "* O que é Inteligência Artificial (IA)?\n",
            "* Tipos de IA: aprendizado de máquina, aprendizado profundo, processamento de linguagem natural\n",
            "* Algoritmos de IA comuns: regressão, classificação, agrupamento\n",
            "* Ética e implicações sociais da IA\n",
            "\n",
            "**Aprendizado de Máquina**\n",
            "\n",
            "* Tipos de aprendizado de máquina: supervisionado, não supervisionado, por reforço\n",
            "* Modelos de aprendizado de máquina: árvores de decisão, redes neurais, máquinas de vetores de suporte\n",
            "* Processo de aprendizado de máquina: coleta de dados, preparação de dados, treinamento de modelo, avaliação\n",
            "* Avaliação de modelos de aprendizado de máquina: precisão, recall, F1-score\n",
            "\n",
            "**Aprendizado Profundo**\n",
            "\n",
            "* Introdução ao aprendizado profundo\n",
            "* Redes neurais: perceptrons, redes neurais convolucionais (CNNs), redes neurais recorrentes (RNNs)\n",
            "* Arquiteturas de redes neurais comuns: ResNet, VGGNet, LSTM\n",
            "* Treinamento e otimização de redes neurais\n",
            "\n",
            "**Processamento de Linguagem Natural**\n",
            "\n",
            "* Conceitos básicos de processamento de linguagem natural (PNL)\n",
            "* Tarefas comuns de PNL: análise de sentimento, reconhecimento de entidade, geração de linguagem natural\n",
            "* Modelos de PNL: transformadores, BERT, GPT-3\n",
            "* Avaliação de modelos de PNL: precisão, recall, F1-score\n",
            "\n",
            "**Aplicações da IA**\n",
            "\n",
            "* IA na saúde: diagnóstico médico, descoberta de medicamentos\n",
            "* IA em finanças: previsão de mercado, detecção de fraudes\n",
            "* IA na fabricação: otimização de processos, controle de qualidade\n",
            "* IA em varejo: recomendações personalizadas, análise de comportamento do cliente\n",
            "\n",
            "**Tendências e Avanços**\n",
            "\n",
            "* IA generativa: modelos de linguagem grandes, arte e música geradas por IA\n",
            "* IA quântica: computação quântica para IA\n",
            "* IA ética e responsável: mitigação de vieses, transparência e responsabilidade\n"
          ]
        }
      ]
    },
    {
      "cell_type": "code",
      "source": [
        "chat = model.start_chat(history=[])"
      ],
      "metadata": {
        "id": "ffEw2e99r94I"
      },
      "execution_count": 8,
      "outputs": []
    },
    {
      "cell_type": "code",
      "source": [
        "prompt = input(\"Esperando prompt: \")\n",
        "\n",
        "while prompt != \"fim\":\n",
        "  response = chat.send_message(prompt)\n",
        "  print(\"Resposta: \", response.text, \"\\n\")\n",
        "  prompt = input(\"Esperando prompt: \")"
      ],
      "metadata": {
        "colab": {
          "base_uri": "https://localhost:8080/",
          "height": 86
        },
        "id": "FsixnJLesgc5",
        "outputId": "34b0f070-b236-4397-db71-9bd449c870fe"
      },
      "execution_count": 10,
      "outputs": [
        {
          "name": "stdout",
          "output_type": "stream",
          "text": [
            "Esperando prompt: Qual é a capital do Japão?\n",
            "Resposta:  Tóquio \n",
            "\n",
            "Esperando prompt: fim\n"
          ]
        }
      ]
    },
    {
      "cell_type": "code",
      "source": [
        "#Melhorando a visualização\n",
        "#Código disponível em https://ai.google.dev/tutorials/python_quickstart#import_packages\n",
        "import textwrap\n",
        "from IPython.display import display\n",
        "from IPython.display import Markdown\n",
        "\n",
        "def to_markdown(text):\n",
        "  text = text.replace('•', '  *')\n",
        "  return Markdown(textwrap.indent(text, '> ', predicate=lambda _: True))\n",
        "\n",
        "#Imprimindo o histórico\n",
        "for message in chat.history:\n",
        "  display(to_markdown(f'**{message.role}**: {message.parts[0].text}'))\n",
        "  print('-------------------------------------------')"
      ],
      "metadata": {
        "colab": {
          "base_uri": "https://localhost:8080/",
          "height": 142
        },
        "id": "VZ_P_JXCs4-U",
        "outputId": "c4eb2bdd-b4c5-47a4-f17e-be0b33af073f"
      },
      "execution_count": 11,
      "outputs": [
        {
          "output_type": "display_data",
          "data": {
            "text/plain": [
              "<IPython.core.display.Markdown object>"
            ],
            "text/markdown": "> **user**: Qual é a capital do Japão?"
          },
          "metadata": {}
        },
        {
          "output_type": "stream",
          "name": "stdout",
          "text": [
            "-------------------------------------------\n"
          ]
        },
        {
          "output_type": "display_data",
          "data": {
            "text/plain": [
              "<IPython.core.display.Markdown object>"
            ],
            "text/markdown": "> **model**: Tóquio"
          },
          "metadata": {}
        },
        {
          "output_type": "stream",
          "name": "stdout",
          "text": [
            "-------------------------------------------\n"
          ]
        }
      ]
    }
  ]
}